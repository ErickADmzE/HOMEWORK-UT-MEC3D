{
 "cells": [
  {
   "cell_type": "markdown",
   "metadata": {},
   "source": [
    "## Homework\n",
    "\n",
    "\n",
    "    \n",
    "\n",
    "\n",
    "\n"
   ]
  },
  {
   "cell_type": "markdown",
   "metadata": {},
   "source": [
    "Develop a program that calculate sample mean,mode,and standard deviation based in a set of data introduced by the user.\n"
   ]
  },
  {
   "cell_type": "markdown",
   "metadata": {},
   "source": [
    "![Image](http://www.utaltamira.edu.mx/wp-content/uploads/2017/06/BIS-LOGO.png)"
   ]
  },
  {
   "cell_type": "code",
   "execution_count": 5,
   "metadata": {},
   "outputs": [
    {
     "name": "stdout",
     "output_type": "stream",
     "text": [
      "Introduce, how many numbers do you want to calculate:2\n",
      "Introduce your numbers:5\n",
      "Introduce your numbers:5\n",
      "The sample mean is:  5.0\n",
      "The standar deviation is:  0.0\n",
      "The mode is: 5\n"
     ]
    }
   ],
   "source": [
    "n = int(input(\"Introduce, how many numbers do you want to calculate:\"))\n",
    "data = []\n",
    "i = 0\n",
    "while i < n:\n",
    "    d = int(input(\"Introduce your numbers:\")) \n",
    "    data.append(d)\n",
    "    i += 1\n",
    "    mean=sum(data)/n  \n",
    "    squares = [] \n",
    "for dato in data:\n",
    "    r = (dato - mean)**2\n",
    "    squares.append(r)\n",
    "deviation = (sum(squares)/(n - 1))**0.5\n",
    "print(\"The sample mean is: \",mean)\n",
    "print (\"The standar deviation is: \", deviation)\n",
    "differentNums={}\n",
    "for x in data:\n",
    "    if x not in differentNums:\n",
    "        differentNums[x]=1\n",
    "    else:\n",
    "        differentNums[x]+=1\n",
    "\n",
    "\n",
    "maxFreq=0\n",
    "mode=0\n",
    "for d in differentNums.keys():\n",
    "    if differentNums[d]>maxFreq:\n",
    "        maxFreq=differentNums[d]\n",
    "        mode=d\n",
    "print(\"The mode is:\",mode)\n"
   ]
  },
  {
   "cell_type": "code",
   "execution_count": null,
   "metadata": {},
   "outputs": [],
   "source": []
  }
 ],
 "metadata": {
  "kernelspec": {
   "display_name": "Python 3",
   "language": "python",
   "name": "python3"
  },
  "language_info": {
   "codemirror_mode": {
    "name": "ipython",
    "version": 3
   },
   "file_extension": ".py",
   "mimetype": "text/x-python",
   "name": "python",
   "nbconvert_exporter": "python",
   "pygments_lexer": "ipython3",
   "version": "3.7.3"
  }
 },
 "nbformat": 4,
 "nbformat_minor": 2
}
